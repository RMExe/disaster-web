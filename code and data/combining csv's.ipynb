{
 "cells": [
  {
   "cell_type": "code",
   "execution_count": 1,
   "metadata": {},
   "outputs": [],
   "source": [
    "import pandas as pd"
   ]
  },
  {
   "cell_type": "code",
   "execution_count": 37,
   "metadata": {},
   "outputs": [
    {
     "data": {
      "text/html": [
       "<div>\n",
       "<style scoped>\n",
       "    .dataframe tbody tr th:only-of-type {\n",
       "        vertical-align: middle;\n",
       "    }\n",
       "\n",
       "    .dataframe tbody tr th {\n",
       "        vertical-align: top;\n",
       "    }\n",
       "\n",
       "    .dataframe thead th {\n",
       "        text-align: right;\n",
       "    }\n",
       "</style>\n",
       "<table border=\"1\" class=\"dataframe\">\n",
       "  <thead>\n",
       "    <tr style=\"text-align: right;\">\n",
       "      <th></th>\n",
       "      <th>y_label</th>\n",
       "      <th>headline</th>\n",
       "      <th>pub_date</th>\n",
       "      <th>snippet</th>\n",
       "      <th>web_url</th>\n",
       "    </tr>\n",
       "  </thead>\n",
       "  <tbody>\n",
       "    <tr>\n",
       "      <th>0</th>\n",
       "      <td>0.0</td>\n",
       "      <td>Hurricanes' Svechnikov in Concussion Protocol</td>\n",
       "      <td>2019-04-16T16:55:33+0000</td>\n",
       "      <td>Carolina Hurricanes rookie forward Andrei Svec...</td>\n",
       "      <td>https://www.nytimes.com/reuters/2019/04/16/spo...</td>\n",
       "    </tr>\n",
       "    <tr>\n",
       "      <th>1</th>\n",
       "      <td>0.0</td>\n",
       "      <td>‘It’s Making Us Less Prepared’: Shutdown Slows...</td>\n",
       "      <td>2019-01-18T10:00:09+0000</td>\n",
       "      <td>The partial government shutdown has kept storm...</td>\n",
       "      <td>https://www.nytimes.com/2019/01/18/us/governme...</td>\n",
       "    </tr>\n",
       "  </tbody>\n",
       "</table>\n",
       "</div>"
      ],
      "text/plain": [
       "   y_label                                           headline  \\\n",
       "0      0.0      Hurricanes' Svechnikov in Concussion Protocol   \n",
       "1      0.0  ‘It’s Making Us Less Prepared’: Shutdown Slows...   \n",
       "\n",
       "                   pub_date  \\\n",
       "0  2019-04-16T16:55:33+0000   \n",
       "1  2019-01-18T10:00:09+0000   \n",
       "\n",
       "                                             snippet  \\\n",
       "0  Carolina Hurricanes rookie forward Andrei Svec...   \n",
       "1  The partial government shutdown has kept storm...   \n",
       "\n",
       "                                             web_url  \n",
       "0  https://www.nytimes.com/reuters/2019/04/16/spo...  \n",
       "1  https://www.nytimes.com/2019/01/18/us/governme...  "
      ]
     },
     "execution_count": 37,
     "metadata": {},
     "output_type": "execute_result"
    }
   ],
   "source": [
    "hurricanes = pd.read_csv('datasets/hurricane.csv')\n",
    "hurricanes.head(2)"
   ]
  },
  {
   "cell_type": "code",
   "execution_count": 32,
   "metadata": {},
   "outputs": [
    {
     "data": {
      "text/html": [
       "<div>\n",
       "<style scoped>\n",
       "    .dataframe tbody tr th:only-of-type {\n",
       "        vertical-align: middle;\n",
       "    }\n",
       "\n",
       "    .dataframe tbody tr th {\n",
       "        vertical-align: top;\n",
       "    }\n",
       "\n",
       "    .dataframe thead th {\n",
       "        text-align: right;\n",
       "    }\n",
       "</style>\n",
       "<table border=\"1\" class=\"dataframe\">\n",
       "  <thead>\n",
       "    <tr style=\"text-align: right;\">\n",
       "      <th></th>\n",
       "      <th>y_label</th>\n",
       "      <th>headline</th>\n",
       "      <th>pub_date</th>\n",
       "      <th>snippet</th>\n",
       "      <th>web_url</th>\n",
       "    </tr>\n",
       "  </thead>\n",
       "  <tbody>\n",
       "    <tr>\n",
       "      <th>0</th>\n",
       "      <td>0</td>\n",
       "      <td>Blizzard Clobbers Plains and Midwest After Bla...</td>\n",
       "      <td>2019-04-11T11:22:21+0000</td>\n",
       "      <td>A powerful blizzard slammed the U.S. Plains an...</td>\n",
       "      <td>https://www.nytimes.com/reuters/2019/04/11/us/...</td>\n",
       "    </tr>\n",
       "    <tr>\n",
       "      <th>1</th>\n",
       "      <td>0</td>\n",
       "      <td>Spring Snow Falls in New England, U.S. Midwest...</td>\n",
       "      <td>2019-04-09T01:04:40+0000</td>\n",
       "      <td>New England states enjoying the first signs of...</td>\n",
       "      <td>https://www.nytimes.com/reuters/2019/04/08/us/...</td>\n",
       "    </tr>\n",
       "  </tbody>\n",
       "</table>\n",
       "</div>"
      ],
      "text/plain": [
       "   y_label                                           headline  \\\n",
       "0        0  Blizzard Clobbers Plains and Midwest After Bla...   \n",
       "1        0  Spring Snow Falls in New England, U.S. Midwest...   \n",
       "\n",
       "                   pub_date  \\\n",
       "0  2019-04-11T11:22:21+0000   \n",
       "1  2019-04-09T01:04:40+0000   \n",
       "\n",
       "                                             snippet  \\\n",
       "0  A powerful blizzard slammed the U.S. Plains an...   \n",
       "1  New England states enjoying the first signs of...   \n",
       "\n",
       "                                             web_url  \n",
       "0  https://www.nytimes.com/reuters/2019/04/11/us/...  \n",
       "1  https://www.nytimes.com/reuters/2019/04/08/us/...  "
      ]
     },
     "execution_count": 32,
     "metadata": {},
     "output_type": "execute_result"
    }
   ],
   "source": [
    "blizzards = pd.read_csv('datasets/blizzard.csv')\n",
    "blizzards.drop(['Unnamed: 1'], axis=1, inplace = True)\n",
    "blizzards.head(2)"
   ]
  },
  {
   "cell_type": "code",
   "execution_count": 33,
   "metadata": {},
   "outputs": [
    {
     "data": {
      "text/html": [
       "<div>\n",
       "<style scoped>\n",
       "    .dataframe tbody tr th:only-of-type {\n",
       "        vertical-align: middle;\n",
       "    }\n",
       "\n",
       "    .dataframe tbody tr th {\n",
       "        vertical-align: top;\n",
       "    }\n",
       "\n",
       "    .dataframe thead th {\n",
       "        text-align: right;\n",
       "    }\n",
       "</style>\n",
       "<table border=\"1\" class=\"dataframe\">\n",
       "  <thead>\n",
       "    <tr style=\"text-align: right;\">\n",
       "      <th></th>\n",
       "      <th>y_label</th>\n",
       "      <th>headline</th>\n",
       "      <th>pub_date</th>\n",
       "      <th>snippet</th>\n",
       "      <th>web_url</th>\n",
       "    </tr>\n",
       "  </thead>\n",
       "  <tbody>\n",
       "    <tr>\n",
       "      <th>0</th>\n",
       "      <td>0</td>\n",
       "      <td>Flood Insurance: Knowing When the Risk Justifi...</td>\n",
       "      <td>2018-11-16T07:00:04+0000</td>\n",
       "      <td>The danger of coastal flooding continues to ri...</td>\n",
       "      <td>https://www.nytimes.com/2018/11/16/business/fl...</td>\n",
       "    </tr>\n",
       "    <tr>\n",
       "      <th>1</th>\n",
       "      <td>0</td>\n",
       "      <td>Why Is There Flooding in Nebraska, South Dakot...</td>\n",
       "      <td>2019-03-18T17:09:08+0000</td>\n",
       "      <td>When a warm rain fell on a flat, frozen landsc...</td>\n",
       "      <td>https://www.nytimes.com/2019/03/18/us/nebraska...</td>\n",
       "    </tr>\n",
       "  </tbody>\n",
       "</table>\n",
       "</div>"
      ],
      "text/plain": [
       "   y_label                                           headline  \\\n",
       "0        0  Flood Insurance: Knowing When the Risk Justifi...   \n",
       "1        0  Why Is There Flooding in Nebraska, South Dakot...   \n",
       "\n",
       "                   pub_date  \\\n",
       "0  2018-11-16T07:00:04+0000   \n",
       "1  2019-03-18T17:09:08+0000   \n",
       "\n",
       "                                             snippet  \\\n",
       "0  The danger of coastal flooding continues to ri...   \n",
       "1  When a warm rain fell on a flat, frozen landsc...   \n",
       "\n",
       "                                             web_url  \n",
       "0  https://www.nytimes.com/2018/11/16/business/fl...  \n",
       "1  https://www.nytimes.com/2019/03/18/us/nebraska...  "
      ]
     },
     "execution_count": 33,
     "metadata": {},
     "output_type": "execute_result"
    }
   ],
   "source": [
    "floods = pd.read_csv('datasets/flood.csv')\n",
    "floods.drop(['Unnamed: 1'], axis=1, inplace = True)\n",
    "floods.head(2)"
   ]
  },
  {
   "cell_type": "code",
   "execution_count": 34,
   "metadata": {},
   "outputs": [
    {
     "data": {
      "text/html": [
       "<div>\n",
       "<style scoped>\n",
       "    .dataframe tbody tr th:only-of-type {\n",
       "        vertical-align: middle;\n",
       "    }\n",
       "\n",
       "    .dataframe tbody tr th {\n",
       "        vertical-align: top;\n",
       "    }\n",
       "\n",
       "    .dataframe thead th {\n",
       "        text-align: right;\n",
       "    }\n",
       "</style>\n",
       "<table border=\"1\" class=\"dataframe\">\n",
       "  <thead>\n",
       "    <tr style=\"text-align: right;\">\n",
       "      <th></th>\n",
       "      <th>y_label</th>\n",
       "      <th>headline</th>\n",
       "      <th>pub_date</th>\n",
       "      <th>snippet</th>\n",
       "      <th>web_url</th>\n",
       "    </tr>\n",
       "  </thead>\n",
       "  <tbody>\n",
       "    <tr>\n",
       "      <th>0</th>\n",
       "      <td>1</td>\n",
       "      <td>Series of Weak Earthquakes Hit South Alabama</td>\n",
       "      <td>2019-04-12T13:03:58+0000</td>\n",
       "      <td>A series of small earthquakes hit south Alabam...</td>\n",
       "      <td>https://www.nytimes.com/aponline/2019/04/12/us...</td>\n",
       "    </tr>\n",
       "    <tr>\n",
       "      <th>1</th>\n",
       "      <td>0</td>\n",
       "      <td>Alex Muyl Scores Twice as Red Bulls Awaken and...</td>\n",
       "      <td>2019-03-16T23:13:06+0000</td>\n",
       "      <td>The Red Bulls, who had the best record in M.L....</td>\n",
       "      <td>https://www.nytimes.com/2019/03/16/sports/mls-...</td>\n",
       "    </tr>\n",
       "  </tbody>\n",
       "</table>\n",
       "</div>"
      ],
      "text/plain": [
       "   y_label                                           headline  \\\n",
       "0        1       Series of Weak Earthquakes Hit South Alabama   \n",
       "1        0  Alex Muyl Scores Twice as Red Bulls Awaken and...   \n",
       "\n",
       "                   pub_date  \\\n",
       "0  2019-04-12T13:03:58+0000   \n",
       "1  2019-03-16T23:13:06+0000   \n",
       "\n",
       "                                             snippet  \\\n",
       "0  A series of small earthquakes hit south Alabam...   \n",
       "1  The Red Bulls, who had the best record in M.L....   \n",
       "\n",
       "                                             web_url  \n",
       "0  https://www.nytimes.com/aponline/2019/04/12/us...  \n",
       "1  https://www.nytimes.com/2019/03/16/sports/mls-...  "
      ]
     },
     "execution_count": 34,
     "metadata": {},
     "output_type": "execute_result"
    }
   ],
   "source": [
    "earthquakes = pd.read_csv('datasets/earthquake.csv')\n",
    "earthquakes.drop(['Unnamed: 1'], axis=1, inplace = True)\n",
    "earthquakes.head(2)"
   ]
  },
  {
   "cell_type": "code",
   "execution_count": 36,
   "metadata": {},
   "outputs": [
    {
     "data": {
      "text/html": [
       "<div>\n",
       "<style scoped>\n",
       "    .dataframe tbody tr th:only-of-type {\n",
       "        vertical-align: middle;\n",
       "    }\n",
       "\n",
       "    .dataframe tbody tr th {\n",
       "        vertical-align: top;\n",
       "    }\n",
       "\n",
       "    .dataframe thead th {\n",
       "        text-align: right;\n",
       "    }\n",
       "</style>\n",
       "<table border=\"1\" class=\"dataframe\">\n",
       "  <thead>\n",
       "    <tr style=\"text-align: right;\">\n",
       "      <th></th>\n",
       "      <th>y_label</th>\n",
       "      <th>headline</th>\n",
       "      <th>pub_date</th>\n",
       "      <th>snippet</th>\n",
       "      <th>web_url</th>\n",
       "    </tr>\n",
       "  </thead>\n",
       "  <tbody>\n",
       "    <tr>\n",
       "      <th>0</th>\n",
       "      <td>1</td>\n",
       "      <td>The Latest: Tornado Confirmed in Alabama</td>\n",
       "      <td>2019-04-11T16:49:05+0000</td>\n",
       "      <td>The Latest on severe weather in the Southeast ...</td>\n",
       "      <td>https://www.nytimes.com/aponline/2019/04/11/us...</td>\n",
       "    </tr>\n",
       "    <tr>\n",
       "      <th>1</th>\n",
       "      <td>1</td>\n",
       "      <td>Spring Snowstorm Buries Midwest, Tornadoes Pos...</td>\n",
       "      <td>2019-04-12T14:09:58+0000</td>\n",
       "      <td>Strong winds and more snow hit the Midwest on ...</td>\n",
       "      <td>https://www.nytimes.com/aponline/2019/04/12/us...</td>\n",
       "    </tr>\n",
       "  </tbody>\n",
       "</table>\n",
       "</div>"
      ],
      "text/plain": [
       "   y_label                                           headline  \\\n",
       "0        1           The Latest: Tornado Confirmed in Alabama   \n",
       "1        1  Spring Snowstorm Buries Midwest, Tornadoes Pos...   \n",
       "\n",
       "                   pub_date  \\\n",
       "0  2019-04-11T16:49:05+0000   \n",
       "1  2019-04-12T14:09:58+0000   \n",
       "\n",
       "                                             snippet  \\\n",
       "0  The Latest on severe weather in the Southeast ...   \n",
       "1  Strong winds and more snow hit the Midwest on ...   \n",
       "\n",
       "                                             web_url  \n",
       "0  https://www.nytimes.com/aponline/2019/04/11/us...  \n",
       "1  https://www.nytimes.com/aponline/2019/04/12/us...  "
      ]
     },
     "execution_count": 36,
     "metadata": {},
     "output_type": "execute_result"
    }
   ],
   "source": [
    "tornados = pd.read_csv('datasets/tornado.csv')\n",
    "tornados.drop(['Unnamed: 1'], axis=1, inplace = True)\n",
    "tornados.rename(index=str, columns={\"Unnamed: 0\": \"y_label\"}, inplace = True)\n",
    "tornados.head(2)"
   ]
  },
  {
   "cell_type": "code",
   "execution_count": 39,
   "metadata": {},
   "outputs": [],
   "source": [
    "# concat\n",
    "frames = [hurricanes, earthquakes, blizzards, floods, tornados]\n",
    "combo = pd.concat(frames)\n",
    "\n"
   ]
  },
  {
   "cell_type": "code",
   "execution_count": 40,
   "metadata": {},
   "outputs": [
    {
     "data": {
      "text/plain": [
       "(5002, 5)"
      ]
     },
     "execution_count": 40,
     "metadata": {},
     "output_type": "execute_result"
    }
   ],
   "source": [
    "combo.shape"
   ]
  },
  {
   "cell_type": "code",
   "execution_count": 41,
   "metadata": {},
   "outputs": [
    {
     "data": {
      "text/html": [
       "<div>\n",
       "<style scoped>\n",
       "    .dataframe tbody tr th:only-of-type {\n",
       "        vertical-align: middle;\n",
       "    }\n",
       "\n",
       "    .dataframe tbody tr th {\n",
       "        vertical-align: top;\n",
       "    }\n",
       "\n",
       "    .dataframe thead th {\n",
       "        text-align: right;\n",
       "    }\n",
       "</style>\n",
       "<table border=\"1\" class=\"dataframe\">\n",
       "  <thead>\n",
       "    <tr style=\"text-align: right;\">\n",
       "      <th></th>\n",
       "      <th>y_label</th>\n",
       "      <th>headline</th>\n",
       "      <th>pub_date</th>\n",
       "      <th>snippet</th>\n",
       "      <th>web_url</th>\n",
       "    </tr>\n",
       "  </thead>\n",
       "  <tbody>\n",
       "    <tr>\n",
       "      <th>0</th>\n",
       "      <td>0.0</td>\n",
       "      <td>Hurricanes' Svechnikov in Concussion Protocol</td>\n",
       "      <td>2019-04-16T16:55:33+0000</td>\n",
       "      <td>Carolina Hurricanes rookie forward Andrei Svec...</td>\n",
       "      <td>https://www.nytimes.com/reuters/2019/04/16/spo...</td>\n",
       "    </tr>\n",
       "    <tr>\n",
       "      <th>1</th>\n",
       "      <td>0.0</td>\n",
       "      <td>‘It’s Making Us Less Prepared’: Shutdown Slows...</td>\n",
       "      <td>2019-01-18T10:00:09+0000</td>\n",
       "      <td>The partial government shutdown has kept storm...</td>\n",
       "      <td>https://www.nytimes.com/2019/01/18/us/governme...</td>\n",
       "    </tr>\n",
       "    <tr>\n",
       "      <th>2</th>\n",
       "      <td>0.0</td>\n",
       "      <td>Housing Vouchers Ending for Hurricane Michael ...</td>\n",
       "      <td>2019-04-11T18:05:57+0000</td>\n",
       "      <td>Hundreds of residents in the county hardest hi...</td>\n",
       "      <td>https://www.nytimes.com/aponline/2019/04/11/us...</td>\n",
       "    </tr>\n",
       "    <tr>\n",
       "      <th>3</th>\n",
       "      <td>0.0</td>\n",
       "      <td>An Action Plan to Reduce Hurricane Havoc</td>\n",
       "      <td>2018-10-12T20:08:55+0000</td>\n",
       "      <td>A reader calls for upgrading our built environ...</td>\n",
       "      <td>https://www.nytimes.com/2018/10/12/opinion/let...</td>\n",
       "    </tr>\n",
       "    <tr>\n",
       "      <th>4</th>\n",
       "      <td>0.0</td>\n",
       "      <td>Capitals Survive Surge From Hurricanes to Win ...</td>\n",
       "      <td>2019-04-12T02:25:00+0000</td>\n",
       "      <td>Nicklas Backstrom and Alex Ovechkin came out f...</td>\n",
       "      <td>https://www.nytimes.com/aponline/2019/04/11/sp...</td>\n",
       "    </tr>\n",
       "  </tbody>\n",
       "</table>\n",
       "</div>"
      ],
      "text/plain": [
       "   y_label                                           headline  \\\n",
       "0      0.0      Hurricanes' Svechnikov in Concussion Protocol   \n",
       "1      0.0  ‘It’s Making Us Less Prepared’: Shutdown Slows...   \n",
       "2      0.0  Housing Vouchers Ending for Hurricane Michael ...   \n",
       "3      0.0           An Action Plan to Reduce Hurricane Havoc   \n",
       "4      0.0  Capitals Survive Surge From Hurricanes to Win ...   \n",
       "\n",
       "                   pub_date  \\\n",
       "0  2019-04-16T16:55:33+0000   \n",
       "1  2019-01-18T10:00:09+0000   \n",
       "2  2019-04-11T18:05:57+0000   \n",
       "3  2018-10-12T20:08:55+0000   \n",
       "4  2019-04-12T02:25:00+0000   \n",
       "\n",
       "                                             snippet  \\\n",
       "0  Carolina Hurricanes rookie forward Andrei Svec...   \n",
       "1  The partial government shutdown has kept storm...   \n",
       "2  Hundreds of residents in the county hardest hi...   \n",
       "3  A reader calls for upgrading our built environ...   \n",
       "4  Nicklas Backstrom and Alex Ovechkin came out f...   \n",
       "\n",
       "                                             web_url  \n",
       "0  https://www.nytimes.com/reuters/2019/04/16/spo...  \n",
       "1  https://www.nytimes.com/2019/01/18/us/governme...  \n",
       "2  https://www.nytimes.com/aponline/2019/04/11/us...  \n",
       "3  https://www.nytimes.com/2018/10/12/opinion/let...  \n",
       "4  https://www.nytimes.com/aponline/2019/04/11/sp...  "
      ]
     },
     "execution_count": 41,
     "metadata": {},
     "output_type": "execute_result"
    }
   ],
   "source": [
    "combo.head()"
   ]
  },
  {
   "cell_type": "code",
   "execution_count": 48,
   "metadata": {},
   "outputs": [],
   "source": [
    "combo.to_csv(path_or_buf='datasets/disaster_combo.csv',index=False)"
   ]
  },
  {
   "cell_type": "code",
   "execution_count": 49,
   "metadata": {},
   "outputs": [
    {
     "name": "stdout",
     "output_type": "stream",
     "text": [
      "/Users/johnhealy/Desktop/project_4\r\n"
     ]
    }
   ],
   "source": [
    "!pwd\n"
   ]
  },
  {
   "cell_type": "code",
   "execution_count": null,
   "metadata": {},
   "outputs": [],
   "source": []
  }
 ],
 "metadata": {
  "kernelspec": {
   "display_name": "Python 3",
   "language": "python",
   "name": "python3"
  },
  "language_info": {
   "codemirror_mode": {
    "name": "ipython",
    "version": 3
   },
   "file_extension": ".py",
   "mimetype": "text/x-python",
   "name": "python",
   "nbconvert_exporter": "python",
   "pygments_lexer": "ipython3",
   "version": "3.6.8"
  }
 },
 "nbformat": 4,
 "nbformat_minor": 2
}
