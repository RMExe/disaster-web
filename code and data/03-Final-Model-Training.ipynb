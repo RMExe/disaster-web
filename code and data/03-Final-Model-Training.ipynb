{
 "cells": [
  {
   "cell_type": "markdown",
   "metadata": {},
   "source": [
    "# Training the Final Model"
   ]
  },
  {
   "cell_type": "markdown",
   "metadata": {},
   "source": [
    "## Abstract"
   ]
  },
  {
   "cell_type": "markdown",
   "metadata": {},
   "source": [
    "This notebook is fully implementing the research into parameters from the previous notebook, first by loading in the dictionary with the optimized parameters, reconstructing from them, and then fitting to the full dataset.  At the end, the model will be pickled so that it can be used in the flask app."
   ]
  },
  {
   "cell_type": "markdown",
   "metadata": {},
   "source": [
    "## Imports"
   ]
  },
  {
   "cell_type": "code",
   "execution_count": 1,
   "metadata": {},
   "outputs": [],
   "source": [
    "import pandas as pd\n",
    "import numpy as np\n",
    "from sklearn.linear_model import LogisticRegression\n",
    "from sklearn.feature_extraction.text import CountVectorizer\n",
    "from sklearn.model_selection import train_test_split\n",
    "from sklearn.metrics import recall_score\n",
    "from sklearn.pipeline import Pipeline\n",
    "import pickle\n",
    "import json"
   ]
  },
  {
   "cell_type": "markdown",
   "metadata": {},
   "source": [
    "## Read Files"
   ]
  },
  {
   "cell_type": "code",
   "execution_count": 2,
   "metadata": {},
   "outputs": [],
   "source": [
    "combo_df = pd.read_csv(\"./datasets/disaster_combo.csv\")"
   ]
  },
  {
   "cell_type": "code",
   "execution_count": 3,
   "metadata": {},
   "outputs": [
    {
     "data": {
      "text/plain": [
       "(5002, 5)"
      ]
     },
     "execution_count": 3,
     "metadata": {},
     "output_type": "execute_result"
    }
   ],
   "source": [
    "combo_df.shape"
   ]
  },
  {
   "cell_type": "code",
   "execution_count": 4,
   "metadata": {},
   "outputs": [
    {
     "data": {
      "text/html": [
       "<div>\n",
       "<style scoped>\n",
       "    .dataframe tbody tr th:only-of-type {\n",
       "        vertical-align: middle;\n",
       "    }\n",
       "\n",
       "    .dataframe tbody tr th {\n",
       "        vertical-align: top;\n",
       "    }\n",
       "\n",
       "    .dataframe thead th {\n",
       "        text-align: right;\n",
       "    }\n",
       "</style>\n",
       "<table border=\"1\" class=\"dataframe\">\n",
       "  <thead>\n",
       "    <tr style=\"text-align: right;\">\n",
       "      <th></th>\n",
       "      <th>y_label</th>\n",
       "      <th>headline</th>\n",
       "      <th>pub_date</th>\n",
       "      <th>snippet</th>\n",
       "      <th>web_url</th>\n",
       "    </tr>\n",
       "  </thead>\n",
       "  <tbody>\n",
       "    <tr>\n",
       "      <th>0</th>\n",
       "      <td>0.0</td>\n",
       "      <td>Hurricanes' Svechnikov in Concussion Protocol</td>\n",
       "      <td>2019-04-16T16:55:33+0000</td>\n",
       "      <td>Carolina Hurricanes rookie forward Andrei Svec...</td>\n",
       "      <td>https://www.nytimes.com/reuters/2019/04/16/spo...</td>\n",
       "    </tr>\n",
       "    <tr>\n",
       "      <th>1</th>\n",
       "      <td>0.0</td>\n",
       "      <td>‘It’s Making Us Less Prepared’: Shutdown Slows...</td>\n",
       "      <td>2019-01-18T10:00:09+0000</td>\n",
       "      <td>The partial government shutdown has kept storm...</td>\n",
       "      <td>https://www.nytimes.com/2019/01/18/us/governme...</td>\n",
       "    </tr>\n",
       "    <tr>\n",
       "      <th>2</th>\n",
       "      <td>0.0</td>\n",
       "      <td>Housing Vouchers Ending for Hurricane Michael ...</td>\n",
       "      <td>2019-04-11T18:05:57+0000</td>\n",
       "      <td>Hundreds of residents in the county hardest hi...</td>\n",
       "      <td>https://www.nytimes.com/aponline/2019/04/11/us...</td>\n",
       "    </tr>\n",
       "    <tr>\n",
       "      <th>3</th>\n",
       "      <td>0.0</td>\n",
       "      <td>An Action Plan to Reduce Hurricane Havoc</td>\n",
       "      <td>2018-10-12T20:08:55+0000</td>\n",
       "      <td>A reader calls for upgrading our built environ...</td>\n",
       "      <td>https://www.nytimes.com/2018/10/12/opinion/let...</td>\n",
       "    </tr>\n",
       "    <tr>\n",
       "      <th>4</th>\n",
       "      <td>0.0</td>\n",
       "      <td>Capitals Survive Surge From Hurricanes to Win ...</td>\n",
       "      <td>2019-04-12T02:25:00+0000</td>\n",
       "      <td>Nicklas Backstrom and Alex Ovechkin came out f...</td>\n",
       "      <td>https://www.nytimes.com/aponline/2019/04/11/sp...</td>\n",
       "    </tr>\n",
       "  </tbody>\n",
       "</table>\n",
       "</div>"
      ],
      "text/plain": [
       "   y_label                                           headline  \\\n",
       "0      0.0      Hurricanes' Svechnikov in Concussion Protocol   \n",
       "1      0.0  ‘It’s Making Us Less Prepared’: Shutdown Slows...   \n",
       "2      0.0  Housing Vouchers Ending for Hurricane Michael ...   \n",
       "3      0.0           An Action Plan to Reduce Hurricane Havoc   \n",
       "4      0.0  Capitals Survive Surge From Hurricanes to Win ...   \n",
       "\n",
       "                   pub_date  \\\n",
       "0  2019-04-16T16:55:33+0000   \n",
       "1  2019-01-18T10:00:09+0000   \n",
       "2  2019-04-11T18:05:57+0000   \n",
       "3  2018-10-12T20:08:55+0000   \n",
       "4  2019-04-12T02:25:00+0000   \n",
       "\n",
       "                                             snippet  \\\n",
       "0  Carolina Hurricanes rookie forward Andrei Svec...   \n",
       "1  The partial government shutdown has kept storm...   \n",
       "2  Hundreds of residents in the county hardest hi...   \n",
       "3  A reader calls for upgrading our built environ...   \n",
       "4  Nicklas Backstrom and Alex Ovechkin came out f...   \n",
       "\n",
       "                                             web_url  \n",
       "0  https://www.nytimes.com/reuters/2019/04/16/spo...  \n",
       "1  https://www.nytimes.com/2019/01/18/us/governme...  \n",
       "2  https://www.nytimes.com/aponline/2019/04/11/us...  \n",
       "3  https://www.nytimes.com/2018/10/12/opinion/let...  \n",
       "4  https://www.nytimes.com/aponline/2019/04/11/sp...  "
      ]
     },
     "execution_count": 4,
     "metadata": {},
     "output_type": "execute_result"
    }
   ],
   "source": [
    "combo_df.head()"
   ]
  },
  {
   "cell_type": "markdown",
   "metadata": {},
   "source": [
    "### Data Cleaning"
   ]
  },
  {
   "cell_type": "code",
   "execution_count": 5,
   "metadata": {},
   "outputs": [
    {
     "data": {
      "text/plain": [
       "y_label      1\n",
       "headline     2\n",
       "pub_date     2\n",
       "snippet     19\n",
       "web_url      2\n",
       "dtype: int64"
      ]
     },
     "execution_count": 5,
     "metadata": {},
     "output_type": "execute_result"
    }
   ],
   "source": [
    "combo_df.isna().sum()"
   ]
  },
  {
   "cell_type": "code",
   "execution_count": 6,
   "metadata": {},
   "outputs": [],
   "source": [
    "combo_df.dropna(subset=[\"headline\",\"y_label\"], inplace=True)"
   ]
  },
  {
   "cell_type": "markdown",
   "metadata": {},
   "source": [
    "## Train Test Split"
   ]
  },
  {
   "cell_type": "code",
   "execution_count": 7,
   "metadata": {},
   "outputs": [],
   "source": [
    "X = combo_df[\"headline\"]\n",
    "y = combo_df[\"y_label\"]"
   ]
  },
  {
   "cell_type": "code",
   "execution_count": 8,
   "metadata": {},
   "outputs": [],
   "source": [
    "X_train, X_test, y_train, y_test = train_test_split(X,y,\n",
    "                                                   stratify = y,\n",
    "                                                   random_state = 42)"
   ]
  },
  {
   "cell_type": "markdown",
   "metadata": {},
   "source": [
    "### Loading in parameters"
   ]
  },
  {
   "cell_type": "code",
   "execution_count": 9,
   "metadata": {},
   "outputs": [],
   "source": [
    "with open(\"./datasets/opt_model_params.json\") as file:\n",
    "    model_dict = json.load(file)"
   ]
  },
  {
   "cell_type": "code",
   "execution_count": 10,
   "metadata": {},
   "outputs": [],
   "source": [
    "log_params = model_dict[0]"
   ]
  },
  {
   "cell_type": "code",
   "execution_count": 11,
   "metadata": {},
   "outputs": [],
   "source": [
    "#Extrat vectorizer params\n",
    "vect_params = log_params.pop(\"vect_details\")"
   ]
  },
  {
   "cell_type": "code",
   "execution_count": 12,
   "metadata": {},
   "outputs": [],
   "source": [
    "del log_params[\"name\"]"
   ]
  },
  {
   "cell_type": "markdown",
   "metadata": {},
   "source": [
    "## Build Model"
   ]
  },
  {
   "cell_type": "code",
   "execution_count": 13,
   "metadata": {},
   "outputs": [],
   "source": [
    "#notice the use of the dictionaries to reconstruct the parameters from before\n",
    "model = Pipeline([\n",
    "    (\"cvec\", CountVectorizer(**vect_params)),\n",
    "    (\"logclf\", LogisticRegression(**log_params))\n",
    "])"
   ]
  },
  {
   "cell_type": "markdown",
   "metadata": {},
   "source": [
    "Fit this reconstructed model to the full dataset."
   ]
  },
  {
   "cell_type": "code",
   "execution_count": 14,
   "metadata": {},
   "outputs": [
    {
     "data": {
      "text/plain": [
       "Pipeline(memory=None,\n",
       "     steps=[('cvec', CountVectorizer(analyzer='word', binary=False, decode_error='strict',\n",
       "        dtype=<class 'numpy.int64'>, encoding='utf-8', input='content',\n",
       "        lowercase=True, max_df=0.9, max_features=1000, min_df=5,\n",
       "        ngram_range=[1, 1], preprocessor=None,\n",
       "        stop_words=['these', '...ty='l2', random_state=None,\n",
       "          solver='liblinear', tol=0.0001, verbose=0, warm_start=False))])"
      ]
     },
     "execution_count": 14,
     "metadata": {},
     "output_type": "execute_result"
    }
   ],
   "source": [
    "model.fit(X_train,y_train)"
   ]
  },
  {
   "cell_type": "markdown",
   "metadata": {},
   "source": [
    "### Performance"
   ]
  },
  {
   "cell_type": "code",
   "execution_count": 15,
   "metadata": {},
   "outputs": [],
   "source": [
    "preds = model.predict(X_test)"
   ]
  },
  {
   "cell_type": "code",
   "execution_count": 16,
   "metadata": {},
   "outputs": [
    {
     "data": {
      "text/plain": [
       "0.7710843373493976"
      ]
     },
     "execution_count": 16,
     "metadata": {},
     "output_type": "execute_result"
    }
   ],
   "source": [
    "recall_score(y_test,preds)"
   ]
  },
  {
   "cell_type": "markdown",
   "metadata": {},
   "source": [
    "Barely any performance lost here, so just going to stick with the parameters as is instead, but further optimizations are always possible."
   ]
  },
  {
   "cell_type": "markdown",
   "metadata": {},
   "source": [
    "## Output"
   ]
  },
  {
   "cell_type": "markdown",
   "metadata": {},
   "source": [
    "Pickle for usage in flask app.  Finding an alternative to this could be good as pickles represent a security hole.  At the very least, maybe a good idea to look into hash validation."
   ]
  },
  {
   "cell_type": "code",
   "execution_count": 18,
   "metadata": {},
   "outputs": [],
   "source": [
    "with open(\"../modelpkl/model.pkl\",\"wb\") as file:\n",
    "    pickle.dump(model,file)"
   ]
  }
 ],
 "metadata": {
  "kernelspec": {
   "display_name": "Python 3",
   "language": "python",
   "name": "python3"
  },
  "language_info": {
   "codemirror_mode": {
    "name": "ipython",
    "version": 3
   },
   "file_extension": ".py",
   "mimetype": "text/x-python",
   "name": "python",
   "nbconvert_exporter": "python",
   "pygments_lexer": "ipython3",
   "version": "3.6.5"
  }
 },
 "nbformat": 4,
 "nbformat_minor": 2
}
